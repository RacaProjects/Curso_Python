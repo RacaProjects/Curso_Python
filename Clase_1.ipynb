{
  "nbformat": 4,
  "nbformat_minor": 0,
  "metadata": {
    "colab": {
      "provenance": []
    },
    "kernelspec": {
      "name": "python3",
      "display_name": "Python 3"
    },
    "language_info": {
      "name": "python"
    }
  },
  "cells": [
    {
      "cell_type": "markdown",
      "source": [
        "Introduccion a Python\n",
        "\n",
        "Curso Python\n",
        "\n",
        "UniCafam\n",
        "\n",
        "Estudiante: Raul Andres Casanova Porras\n",
        "\n",
        "Docente: Niculas Mojica"
      ],
      "metadata": {
        "id": "RiTn-SwrxqyJ"
      }
    },
    {
      "cell_type": "code",
      "source": [
        "# El simbolo de # funciona para dejar comentarios de una linea\n",
        "print(\"Hello word\")"
      ],
      "metadata": {
        "colab": {
          "base_uri": "https://localhost:8080/"
        },
        "id": "ca4rqrKAxsGg",
        "outputId": "a45f01db-ddaa-4ae6-939f-e1a4076becad"
      },
      "execution_count": null,
      "outputs": [
        {
          "output_type": "stream",
          "name": "stdout",
          "text": [
            "Hello word\n"
          ]
        }
      ]
    },
    {
      "cell_type": "code",
      "source": [
        "\"\"\"\n",
        "\n",
        "Los simbolos de comillas\n",
        "\n",
        "Sirven para dejar comentarios de varias lineas\n",
        "\n",
        "\"\"\"\n",
        "\n",
        "print(\"Hola mundo\")"
      ],
      "metadata": {
        "colab": {
          "base_uri": "https://localhost:8080/"
        },
        "id": "dhmViuKC3Of9",
        "outputId": "80b2fdc3-72cd-42bd-ed14-82802522fd4a"
      },
      "execution_count": null,
      "outputs": [
        {
          "output_type": "stream",
          "name": "stdout",
          "text": [
            "Hola mundo\n"
          ]
        }
      ]
    },
    {
      "cell_type": "markdown",
      "source": [
        "**VARIABLES**"
      ],
      "metadata": {
        "id": "J1I-nAn13gwv"
      }
    },
    {
      "cell_type": "code",
      "source": [
        "#Las variables se nombran sin caracteres especiales y sin espacios\n",
        "\n",
        "ejemplo_variable = \"Hola mundo\"\n",
        "print(ejemplo_variable)\n",
        "\n",
        "#Tambien se puede cambiar el valor de la variable\n",
        "\n",
        "ejemplo_variable = \"Adios mundo\"\n",
        "print(ejemplo_variable)"
      ],
      "metadata": {
        "colab": {
          "base_uri": "https://localhost:8080/"
        },
        "id": "qzlgzXww3jwR",
        "outputId": "e295cfb2-d49d-4552-d720-7e8a945b8448"
      },
      "execution_count": null,
      "outputs": [
        {
          "output_type": "stream",
          "name": "stdout",
          "text": [
            "Hola mundo\n",
            "Adios mundo\n"
          ]
        }
      ]
    },
    {
      "cell_type": "markdown",
      "source": [
        "**TIPOS DE DATOS**"
      ],
      "metadata": {
        "id": "aaR71YxW4Xet"
      }
    },
    {
      "cell_type": "code",
      "source": [
        "entero = 42\n",
        "flotante = 3.14159"
      ],
      "metadata": {
        "id": "47JefvYG4Ws-"
      },
      "execution_count": null,
      "outputs": []
    },
    {
      "cell_type": "code",
      "source": [
        "#Tambien se pueden convertir los tipos a otro especifico\n",
        "\n",
        "entero = int(3.14159) #La respuesta es 3 dado que lo transforma en entero\n",
        "flotante = float(42) #La respuesta es 42.0 dado que lo transforma en flotante\n",
        "\n",
        "print(entero)\n",
        "print(flotante)\n"
      ],
      "metadata": {
        "id": "ceIJi4Nz4jlP"
      },
      "execution_count": null,
      "outputs": []
    },
    {
      "cell_type": "markdown",
      "source": [
        "**OPERADORES MATEMATICOS**"
      ],
      "metadata": {
        "id": "HKf0xLCH7JQp"
      }
    },
    {
      "cell_type": "code",
      "source": [
        "a = 2\n",
        "b = 4\n",
        "\n",
        "#Suma\n",
        "print (a+b) #Resultado seria = 6\n",
        "\n",
        "#Resta\n",
        "print (b-a) #Resultado seria = 2\n",
        "\n",
        "#Division\n",
        "\n",
        "c = b/a # Resultado seria =2\n",
        "\n",
        "print (c)\n",
        "\n",
        "#Division entera, es la operacion que no deja residuos\n",
        "d = 3\n",
        "\n",
        "print (d//a) # doble // da si o si una division entera de lo contrario da numero float\n",
        "print (d/a)\n",
        "\n",
        "#Exponenciacion\n",
        "\n",
        "print (a**5)\n",
        "\n",
        "#Modulo\n",
        "\n",
        "print (b%a)"
      ],
      "metadata": {
        "id": "cnRyWBjE7h50",
        "outputId": "9536349f-b2e9-443d-af2a-544ff38ef598",
        "colab": {
          "base_uri": "https://localhost:8080/"
        }
      },
      "execution_count": 5,
      "outputs": [
        {
          "output_type": "stream",
          "name": "stdout",
          "text": [
            "6\n",
            "2\n",
            "2.0\n",
            "1\n",
            "1.5\n",
            "32\n",
            "0\n"
          ]
        }
      ]
    }
  ]
}