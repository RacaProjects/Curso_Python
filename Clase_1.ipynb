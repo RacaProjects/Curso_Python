{
  "nbformat": 4,
  "nbformat_minor": 0,
  "metadata": {
    "colab": {
      "provenance": []
    },
    "kernelspec": {
      "name": "python3",
      "display_name": "Python 3"
    },
    "language_info": {
      "name": "python"
    }
  },
  "cells": [
    {
      "cell_type": "markdown",
      "source": [
        "Introduccion a Python\n",
        "\n",
        "Curso Python\n",
        "\n",
        "UniCafam\n",
        "\n",
        "Estudiante: Raul Andres Casanova Porras\n",
        "\n",
        "Docente: Niculas Mojica"
      ],
      "metadata": {
        "id": "RiTn-SwrxqyJ"
      }
    },
    {
      "cell_type": "code",
      "source": [
        "# El simbolo de # funciona para dejar comentarios de una linea\n",
        "print(\"Hello word\")"
      ],
      "metadata": {
        "colab": {
          "base_uri": "https://localhost:8080/"
        },
        "id": "ca4rqrKAxsGg",
        "outputId": "a45f01db-ddaa-4ae6-939f-e1a4076becad"
      },
      "execution_count": null,
      "outputs": [
        {
          "output_type": "stream",
          "name": "stdout",
          "text": [
            "Hello word\n"
          ]
        }
      ]
    },
    {
      "cell_type": "code",
      "source": [
        "\"\"\"\n",
        "\n",
        "Los simbolos de comillas\n",
        "\n",
        "Sirven para dejar comentarios de varias lineas\n",
        "\n",
        "\"\"\"\n",
        "\n",
        "print(\"Hola mundo\")"
      ],
      "metadata": {
        "colab": {
          "base_uri": "https://localhost:8080/"
        },
        "id": "dhmViuKC3Of9",
        "outputId": "80b2fdc3-72cd-42bd-ed14-82802522fd4a"
      },
      "execution_count": null,
      "outputs": [
        {
          "output_type": "stream",
          "name": "stdout",
          "text": [
            "Hola mundo\n"
          ]
        }
      ]
    },
    {
      "cell_type": "markdown",
      "source": [
        "**VARIABLES**"
      ],
      "metadata": {
        "id": "J1I-nAn13gwv"
      }
    },
    {
      "cell_type": "code",
      "source": [
        "#Las variables se nombran sin caracteres especiales y sin espacios\n",
        "\n",
        "ejemplo_variable = \"Hola mundo\"\n",
        "print(ejemplo_variable)\n",
        "\n",
        "#Tambien se puede cambiar el valor de la variable\n",
        "\n",
        "ejemplo_variable = \"Adios mundo\"\n",
        "print(ejemplo_variable)"
      ],
      "metadata": {
        "colab": {
          "base_uri": "https://localhost:8080/"
        },
        "id": "qzlgzXww3jwR",
        "outputId": "e295cfb2-d49d-4552-d720-7e8a945b8448"
      },
      "execution_count": null,
      "outputs": [
        {
          "output_type": "stream",
          "name": "stdout",
          "text": [
            "Hola mundo\n",
            "Adios mundo\n"
          ]
        }
      ]
    },
    {
      "cell_type": "markdown",
      "source": [
        "**TIPOS DE DATOS**"
      ],
      "metadata": {
        "id": "aaR71YxW4Xet"
      }
    },
    {
      "cell_type": "code",
      "source": [
        "entero = 42\n",
        "flotante = 3.14159"
      ],
      "metadata": {
        "id": "47JefvYG4Ws-"
      },
      "execution_count": null,
      "outputs": []
    },
    {
      "cell_type": "code",
      "source": [
        "#Tambien se pueden convertir los tipos a otro especifico\n",
        "\n",
        "entero = int(3.14159) #La respuesta es 3 dado que lo transforma en entero\n",
        "flotante = float(42) #La respuesta es 42.0 dado que lo transforma en flotante\n",
        "\n",
        "print(entero)\n",
        "print(flotante)\n"
      ],
      "metadata": {
        "id": "ceIJi4Nz4jlP"
      },
      "execution_count": null,
      "outputs": []
    },
    {
      "cell_type": "markdown",
      "source": [
        "**OPERADORES MATEMATICOS**"
      ],
      "metadata": {
        "id": "HKf0xLCH7JQp"
      }
    },
    {
      "cell_type": "code",
      "source": [
        "a = 2\n",
        "b = 4\n",
        "\n",
        "#Suma\n",
        "print (a+b) #Resultado seria = 6\n",
        "\n",
        "#Resta\n",
        "print (b-a) #Resultado seria = 2\n",
        "\n",
        "#Division\n",
        "\n",
        "c = b/a # Resultado seria =2\n",
        "\n",
        "print (c)\n",
        "\n",
        "#Division entera, es la operacion que no deja residuos\n",
        "d = 3\n",
        "\n",
        "print (d//a) # doble // da si o si una division entera de lo contrario da numero float\n",
        "print (d/a)\n",
        "\n",
        "#Exponenciacion\n",
        "\n",
        "print (a**5)\n",
        "\n",
        "#Modulo\n",
        "\n",
        "print (b%a)\n",
        "\n",
        "#Asignacion compuesta\n",
        "a += b\n",
        "\n",
        "print (a)\n",
        "\n",
        "a=2\n",
        "\n",
        "# Redondeo de variables\n",
        "e = 3.14159\n",
        "print (round(e,2))\n",
        "print (round(e))\n",
        "\n",
        "#valor absoluto se utiliza abs\n",
        "f = -b\n",
        "print (abs(f))"
      ],
      "metadata": {
        "colab": {
          "base_uri": "https://localhost:8080/"
        },
        "id": "cnRyWBjE7h50",
        "outputId": "8e34002c-f56b-4243-fadb-deff0fd6672c"
      },
      "execution_count": 11,
      "outputs": [
        {
          "output_type": "stream",
          "name": "stdout",
          "text": [
            "6\n",
            "2\n",
            "2.0\n",
            "1\n",
            "1.5\n",
            "32\n",
            "0\n",
            "6\n",
            "3.14\n",
            "3\n",
            "4\n"
          ]
        }
      ]
    },
    {
      "cell_type": "markdown",
      "source": [
        "**Textos o  valores String**"
      ],
      "metadata": {
        "id": "kuWih4Sr_lmp"
      }
    },
    {
      "cell_type": "code",
      "source": [
        "#Concatenacion de caracteres\n",
        "\n",
        "saludo = \"Hola\"\n",
        "nombre = \"Mundo\"\n",
        "mensaje = saludo + \" , \" + nombre\n",
        "print (mensaje)"
      ],
      "metadata": {
        "id": "DU1IUA6M_ubi",
        "outputId": "0b4f5799-4476-43c1-c940-67d0c4b8de78",
        "colab": {
          "base_uri": "https://localhost:8080/"
        }
      },
      "execution_count": 14,
      "outputs": [
        {
          "output_type": "stream",
          "name": "stdout",
          "text": [
            "Hola , Mundo\n"
          ]
        }
      ]
    },
    {
      "cell_type": "code",
      "source": [
        "# Repeticion de caracteres\n",
        "repetido = saludo * 3\n",
        "print (repetido)"
      ],
      "metadata": {
        "id": "vHXvxedTAToG",
        "outputId": "eb5e9975-804f-44c7-a951-4d0937c550cd",
        "colab": {
          "base_uri": "https://localhost:8080/"
        }
      },
      "execution_count": 16,
      "outputs": [
        {
          "output_type": "stream",
          "name": "stdout",
          "text": [
            "HolaHolaHola\n"
          ]
        }
      ]
    },
    {
      "cell_type": "code",
      "source": [
        "# Indexacion ¿?\n",
        "\n",
        "#Obtener una variable que tenga el primer caracter de la variable saludo\n",
        "primer_caracter = saludo[0]\n",
        "print (primer_caracter)\n",
        "\n",
        "# Generar una varible donde extraiga la palabra hola\n",
        "subcadena = mensaje [0:4]\n",
        "print (subcadena)\n",
        "\n"
      ],
      "metadata": {
        "id": "M_-03v6TAs33",
        "outputId": "22d8b227-7d46-4353-e2ba-12f99e0adc5f",
        "colab": {
          "base_uri": "https://localhost:8080/"
        }
      },
      "execution_count": 19,
      "outputs": [
        {
          "output_type": "stream",
          "name": "stdout",
          "text": [
            "H\n",
            "Hola\n"
          ]
        }
      ]
    },
    {
      "cell_type": "code",
      "source": [
        "# Metodos de cadenas\n",
        "\n",
        "#Mayusculas\n",
        "cadena = \"Python es genial\"\n",
        "print (cadena.upper())\n",
        "\n",
        "# Minusculas\n",
        "\n",
        "print (cadena.lower())\n",
        "\n",
        "# Remplazo en cadena\n",
        "\n",
        "print (cadena.replace(\"genial\", \"increible\"))\n",
        "\n",
        "# Separar cadena\n",
        "\n",
        "print(cadena.split(\" \"))\n",
        "\n",
        "print(cadena[0])\n",
        "\n",
        "cadena_separado = cadena.split(\" \")\n",
        "\n",
        "print(cadena_separado[0])"
      ],
      "metadata": {
        "id": "HKFWgqePCLwD",
        "outputId": "51646d35-6b92-4bbc-d2a9-af402765f30a",
        "colab": {
          "base_uri": "https://localhost:8080/"
        }
      },
      "execution_count": 26,
      "outputs": [
        {
          "output_type": "stream",
          "name": "stdout",
          "text": [
            "PYTHON ES GENIAL\n",
            "python es genial\n",
            "Python es increible\n",
            "['Python', 'es', 'genial']\n",
            "P\n",
            "Python\n"
          ]
        }
      ]
    },
    {
      "cell_type": "markdown",
      "source": [
        "**ESTRUCTURAS DE DATOS**"
      ],
      "metadata": {
        "id": "wSQDoo0EF_j-"
      }
    },
    {
      "cell_type": "code",
      "source": [
        "#Listas son las estrucuras de datos en Python que son las mas usadas por su flexibilidad\n",
        "\n",
        "lista = [1, 2, 3, \"cuatro\", 5.0] # No son inmutables osea que no son modificables\n",
        "print (lista)\n",
        "# Modificar elementos de la lista\n",
        "\n",
        "lista [3]=4\n",
        "\n",
        "print(lista)\n",
        "\n",
        "\"\"\"\n",
        "Insertar elementos\n",
        "Con una posicion determinada\n",
        "\"\"\"\n",
        "\n",
        "lista.insert(3,3.3)\n",
        "\n",
        "print(lista)"
      ],
      "metadata": {
        "id": "kuVrveXCGEjm",
        "outputId": "10ce08ee-029b-4aec-a140-64bc41aac3f2",
        "colab": {
          "base_uri": "https://localhost:8080/",
          "height": 216
        }
      },
      "execution_count": 44,
      "outputs": [
        {
          "output_type": "error",
          "ename": "TypeError",
          "evalue": "'list' object is not callable",
          "traceback": [
            "\u001b[0;31m---------------------------------------------------------------------------\u001b[0m",
            "\u001b[0;31mTypeError\u001b[0m                                 Traceback (most recent call last)",
            "\u001b[0;32m<ipython-input-44-19b3c862811b>\u001b[0m in \u001b[0;36m<cell line: 4>\u001b[0;34m()\u001b[0m\n\u001b[1;32m      2\u001b[0m \u001b[0;34m\u001b[0m\u001b[0m\n\u001b[1;32m      3\u001b[0m \u001b[0mejemplo\u001b[0m \u001b[0;34m=\u001b[0m \u001b[0;34m[\u001b[0m\u001b[0;36m1\u001b[0m\u001b[0;34m,\u001b[0m \u001b[0;36m2\u001b[0m\u001b[0;34m,\u001b[0m \u001b[0;36m3\u001b[0m\u001b[0;34m,\u001b[0m \u001b[0;34m\"cuatro\"\u001b[0m\u001b[0;34m,\u001b[0m \u001b[0;36m5.0\u001b[0m\u001b[0;34m]\u001b[0m \u001b[0;31m# No son inmutables osea que no son modificables\u001b[0m\u001b[0;34m\u001b[0m\u001b[0;34m\u001b[0m\u001b[0m\n\u001b[0;32m----> 4\u001b[0;31m \u001b[0mprint\u001b[0m \u001b[0;34m(\u001b[0m\u001b[0mejemplo\u001b[0m\u001b[0;34m)\u001b[0m\u001b[0;34m\u001b[0m\u001b[0;34m\u001b[0m\u001b[0m\n\u001b[0m\u001b[1;32m      5\u001b[0m \u001b[0;31m# Modificar elementos de la lista\u001b[0m\u001b[0;34m\u001b[0m\u001b[0;34m\u001b[0m\u001b[0m\n\u001b[1;32m      6\u001b[0m \u001b[0;34m\u001b[0m\u001b[0m\n",
            "\u001b[0;31mTypeError\u001b[0m: 'list' object is not callable"
          ]
        }
      ]
    }
  ]
}