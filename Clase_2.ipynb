{
  "nbformat": 4,
  "nbformat_minor": 0,
  "metadata": {
    "colab": {
      "provenance": [],
      "authorship_tag": "ABX9TyMmWUYXSEdudWeFBOrxHLiU",
      "include_colab_link": true
    },
    "kernelspec": {
      "name": "python3",
      "display_name": "Python 3"
    },
    "language_info": {
      "name": "python"
    }
  },
  "cells": [
    {
      "cell_type": "markdown",
      "metadata": {
        "id": "view-in-github",
        "colab_type": "text"
      },
      "source": [
        "<a href=\"https://colab.research.google.com/github/RacaProjects/Curso_Python/blob/main/Clase_2.ipynb\" target=\"_parent\"><img src=\"https://colab.research.google.com/assets/colab-badge.svg\" alt=\"Open In Colab\"/></a>"
      ]
    },
    {
      "cell_type": "markdown",
      "source": [
        "**Condicionales y funcionaes en Python**\n",
        "\n",
        "Curso Python\n",
        "\n",
        "UniCafam\n",
        "\n",
        "Estudiante: Raul Andres Casanova Porras\n",
        "\n",
        "Docente: Niculas Mojica\n",
        "\n",
        "\n",
        "\n",
        "---\n",
        "\n"
      ],
      "metadata": {
        "id": "SmJ1cU2lBLVt"
      }
    },
    {
      "cell_type": "code",
      "source": [
        "#Operadores de comparacion\n",
        "\n",
        "\"\"\"\n",
        "== Igual\n",
        "!= diferente\n",
        "< menor que\n",
        "> mayor que\n",
        "<= menor o igual que\n",
        ">= mayor o igual que\n",
        "\"\"\""
      ],
      "metadata": {
        "colab": {
          "base_uri": "https://localhost:8080/",
          "height": 35
        },
        "id": "iIwf-H0tBOmi",
        "outputId": "5a2aec27-02bf-4edb-e2ca-a46bd3e49fa3"
      },
      "execution_count": null,
      "outputs": [
        {
          "output_type": "execute_result",
          "data": {
            "text/plain": [
              "'\\n== Igual\\n!= diferente\\n< menor que\\n> mayor que\\n<= menor o igual que\\n>= mayor o igual que\\n'"
            ],
            "application/vnd.google.colaboratory.intrinsic+json": {
              "type": "string"
            }
          },
          "metadata": {},
          "execution_count": 1
        }
      ]
    },
    {
      "cell_type": "markdown",
      "source": [
        "Generar un programa que determine si una persona es mayor o menor de edad"
      ],
      "metadata": {
        "id": "9TQqJuD6CkuF"
      }
    },
    {
      "cell_type": "code",
      "source": [
        "edad = 18\n",
        "\n",
        "if edad >= 18:\n",
        "  print (\"Es mayor de edad\")\n",
        "else:\n",
        "  print (\"Es menor de edad\")"
      ],
      "metadata": {
        "colab": {
          "base_uri": "https://localhost:8080/"
        },
        "id": "BjBah5cUCO2y",
        "outputId": "4bba868b-be4d-48e4-9ec6-d8db60ff4187"
      },
      "execution_count": null,
      "outputs": [
        {
          "output_type": "stream",
          "name": "stdout",
          "text": [
            "Es mayor de edad\n"
          ]
        }
      ]
    },
    {
      "cell_type": "code",
      "source": [
        "#condicionales anidadas\n",
        "\n",
        "nota = 85\n",
        "\n",
        "if nota >= 60 :\n",
        "  if nota >=90:\n",
        "    print (\"Calificacion alta\")\n",
        "  elif nota >= 80:\n",
        "    print (\"Calificacion media\")\n",
        "  else:\n",
        "    print (\"Calificacion baja\")\n",
        "else:\n",
        "  print (\"No aprobado\")"
      ],
      "metadata": {
        "colab": {
          "base_uri": "https://localhost:8080/"
        },
        "id": "il2UgCyhDu6z",
        "outputId": "3f9f2c48-1133-4e10-d5e0-6434afb89212"
      },
      "execution_count": null,
      "outputs": [
        {
          "output_type": "stream",
          "name": "stdout",
          "text": [
            "Calificacion media\n"
          ]
        }
      ]
    },
    {
      "cell_type": "code",
      "source": [
        "calificacion = float(input(\"Ingrese su calificacion: \"))\n",
        "\n",
        "if calificacion >= 60 :\n",
        "  print (\"Aprobado\")\n",
        "else:\n",
        "  print (\"Reprobado\")"
      ],
      "metadata": {
        "colab": {
          "base_uri": "https://localhost:8080/"
        },
        "id": "uNHZ3rh3GAPk",
        "outputId": "ffe02771-3683-4578-defd-93e58f30b394"
      },
      "execution_count": null,
      "outputs": [
        {
          "output_type": "stream",
          "name": "stdout",
          "text": [
            "Ingrese su calificacion: 60\n",
            "Aprobado\n"
          ]
        }
      ]
    },
    {
      "cell_type": "markdown",
      "source": [
        "Escribe un programa que clasifique la edad en diferentes categorías: Niño (0-12 años), Adolescente (13-17 años), Adulto (18-64 años) y Anciano (65 años o más).\n"
      ],
      "metadata": {
        "id": "vO1uBql1G2II"
      }
    },
    {
      "cell_type": "code",
      "source": [
        "edad = int(input(\"Ingrese su edad: \"))\n",
        "\n",
        "if edad > 12 :\n",
        "  if edad <= 17 :\n",
        "    print (\"Eres un adolecente\")\n",
        "  elif edad > 17 <= 64 :\n",
        "    print (\"Eres un Adulto\")\n",
        "  elif edad >= 65 :\n",
        "    print (\"Eres un anciano\")\n",
        "\n",
        "else:\n",
        "  print (\"Eres un niño\")\n"
      ],
      "metadata": {
        "colab": {
          "base_uri": "https://localhost:8080/"
        },
        "id": "Fnqu-FFYG8MK",
        "outputId": "10959417-84cc-4aaf-d059-4fccc11885b5"
      },
      "execution_count": null,
      "outputs": [
        {
          "output_type": "stream",
          "name": "stdout",
          "text": [
            "Ingrese su edad: 17\n",
            "Eres un adolecente\n"
          ]
        }
      ]
    },
    {
      "cell_type": "markdown",
      "source": [
        "Escribe un programa que pida al usuario una contraseña y verifique si es correcta. La contraseña correcta es \"secreta123\"."
      ],
      "metadata": {
        "id": "QGR2LYB2J4G8"
      }
    },
    {
      "cell_type": "code",
      "source": [
        "contraseña_correcta = \"secreta123\"\n",
        "\n",
        "contraseña_escrita = input(\"Ingrese la contraseña para acceder al sistema: \")\n",
        "\n",
        "if contraseña_correcta != contraseña_escrita:\n",
        "  print (\"La contraseña ingresada es incorrecta\")\n",
        "else:\n",
        "  print (\"Bienvenido al sistema\")\n"
      ],
      "metadata": {
        "colab": {
          "base_uri": "https://localhost:8080/"
        },
        "id": "qECIRTIDJ6mk",
        "outputId": "b515e8cc-af3b-48a4-f9ed-1a35200fa917"
      },
      "execution_count": null,
      "outputs": [
        {
          "output_type": "stream",
          "name": "stdout",
          "text": [
            "Ingrese la contraseña para acceder al sistema: secret\n",
            "La contraseña ingresada es incorrecta\n"
          ]
        }
      ]
    },
    {
      "cell_type": "markdown",
      "source": [
        "Crea un programa que lea dos números y determine cuál es mayor, cuál es menor o si ambos son iguales.\n"
      ],
      "metadata": {
        "id": "22z8OdOvK0VC"
      }
    },
    {
      "cell_type": "code",
      "source": [
        "print (\"Programa de comparacion de numero\")\n",
        "\n",
        "numero_1 = int(input(\"Ingrese por favor el primer numero: \"))\n",
        "numero_2 = int(input(\"Ingrese por favor el segundo numero: \"))\n",
        "\n",
        "if numero_1 != numero_2:\n",
        "  if numero_1 < numero_2:\n",
        "    print (\"El primer numero es menor que el segundo numero\")\n",
        "  elif numero_1 > numero_2 :\n",
        "    print (\"El primer numero es mayor que el segundo numero\")\n",
        "else:\n",
        "  print (\"Los numeros son iguales\")"
      ],
      "metadata": {
        "colab": {
          "base_uri": "https://localhost:8080/"
        },
        "id": "Hs8JJFHNK-q7",
        "outputId": "e8dbd2b8-6e42-484c-ddad-e8c2708599e8"
      },
      "execution_count": null,
      "outputs": [
        {
          "output_type": "stream",
          "name": "stdout",
          "text": [
            "Programa de comparacion de numero\n",
            "Ingrese por favor el primer numero: 10\n",
            "Ingrese por favor el segundo numero: 5\n",
            "El primer numero es mayor que el segundo numero\n"
          ]
        }
      ]
    },
    {
      "cell_type": "markdown",
      "source": [
        "**FUNCIONES**\n"
      ],
      "metadata": {
        "id": "pTE6-9uRM8B4"
      }
    },
    {
      "cell_type": "code",
      "source": [
        "# y = mx + b\n",
        "# y = 2x + 4\n",
        "\n",
        "valor_x = 5\n",
        "\n",
        "def recta (x):\n",
        "  return (2 * x) + 4\n",
        "\n",
        "print (recta(valor_x))"
      ],
      "metadata": {
        "colab": {
          "base_uri": "https://localhost:8080/"
        },
        "id": "ghYHrfSzNHHu",
        "outputId": "829b4210-ebd2-4d82-cf5a-7e7f1e118f31"
      },
      "execution_count": null,
      "outputs": [
        {
          "output_type": "stream",
          "name": "stdout",
          "text": [
            "24\n"
          ]
        }
      ]
    },
    {
      "cell_type": "code",
      "source": [
        "#contruir una funcion que genere la suma de dos numeros\n",
        "\n",
        "def suma (a,b) :\n",
        "  return print (a + b)\n",
        "\n",
        "suma(5,3)"
      ],
      "metadata": {
        "colab": {
          "base_uri": "https://localhost:8080/"
        },
        "id": "7ICZ6PkTPD71",
        "outputId": "49cec16b-4a97-49bf-80dc-ff92bbb74dc4"
      },
      "execution_count": null,
      "outputs": [
        {
          "output_type": "stream",
          "name": "stdout",
          "text": [
            "8\n"
          ]
        }
      ]
    },
    {
      "cell_type": "code",
      "source": [
        "# Dada 2 variables a y b calcular la suma y resta entre los dos\n",
        "def operaciones (a,b):\n",
        "  sumas = a+b\n",
        "  resta = a-b\n",
        "  return sumas,resta\n",
        "\n",
        "sumas,resta = operaciones (10,5)\n",
        "\n",
        "print (f\"Suma: {sumas}, Resta: {resta}\")\n"
      ],
      "metadata": {
        "colab": {
          "base_uri": "https://localhost:8080/"
        },
        "id": "43XMVRYmQRc1",
        "outputId": "9ad5ff3a-c7ca-4978-ccac-d87ab3572022"
      },
      "execution_count": null,
      "outputs": [
        {
          "output_type": "stream",
          "name": "stdout",
          "text": [
            "Suma: 15, Resta: 5\n"
          ]
        }
      ]
    },
    {
      "cell_type": "markdown",
      "source": [
        "funcion que determine si un numero es par o inpar y que envie un mensaje con el resultado de la valdiacion\n",
        "\n"
      ],
      "metadata": {
        "id": "HtGObYBlRzko"
      }
    },
    {
      "cell_type": "code",
      "source": [
        "def validacion_numero (numero):\n",
        "  resultado_division = numero / 2\n",
        "  return resultado_division\n",
        "\n",
        "numero_escogido = int(input(\"Escriba el numero a validar\"))\n",
        "\n",
        "#pendiente por terminar\n"
      ],
      "metadata": {
        "id": "2KGbHlZmRzC2"
      },
      "execution_count": null,
      "outputs": []
    }
  ]
}