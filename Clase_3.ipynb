{
  "cells": [
    {
      "cell_type": "markdown",
      "metadata": {
        "id": "view-in-github",
        "colab_type": "text"
      },
      "source": [
        "<a href=\"https://colab.research.google.com/github/RacaProjects/Curso_Python/blob/main/Clase_3.ipynb\" target=\"_parent\"><img src=\"https://colab.research.google.com/assets/colab-badge.svg\" alt=\"Open In Colab\"/></a>"
      ]
    },
    {
      "cell_type": "markdown",
      "metadata": {
        "id": "V0yW9118H1Kv"
      },
      "source": [
        "**Revision de errores, ciclos y bucles**\n",
        "\n",
        "Curso Python\n",
        "\n",
        "UniCafam\n",
        "\n",
        "Estudiante: Raul Andres Casanova Porras\n",
        "\n",
        "Docente: Niculas Mojica\n",
        "\n",
        "\n",
        "\n",
        "---\n"
      ]
    },
    {
      "cell_type": "markdown",
      "metadata": {
        "id": "sfXA04S0IC17"
      },
      "source": [
        "# **MANEJO DE ERRORES**\n",
        "En Python, el manejo de errores se realiza utilizando el bloque try-except. Este bloque permite capturar y manejar excepciones (errores) que puedan ocurrir durante la ejecución de tu código. Aquí te muestro cómo funciona:\n",
        "\n",
        "\n",
        "**Tipos de Errores:**\n",
        "\n",
        "- SyntaxError: Error de sintaxis en el código.\n",
        "- TypeError: Operación o función aplicada a un tipo inapropiado.\n",
        "- ValueError: Argumento con el tipo correcto pero valor inapropiado.\n",
        "- IndexError: Índice fuera del rango de una lista o secuencia.\n",
        "- KeyError: Clave que no existe en un diccionario.\n",
        "- FileNotFoundError: Archivo no encontrado.\n",
        "- ZeroDivisionError: División por cero.\n",
        "- IOError: Problema de entrada/salida al leer o escribir archivos.\n",
        "- AttributeError: Atributo que no existe en un objeto.\n",
        "- ImportError: Módulo no encontrado al intentar importarlo.\n",
        "- MemoryError: Agotamiento de memoria.\n",
        "- OverflowError: Operación que excede el rango numérico."
      ]
    },
    {
      "cell_type": "code",
      "execution_count": null,
      "metadata": {
        "colab": {
          "base_uri": "https://localhost:8080/"
        },
        "id": "rcCplmy_H7Nf",
        "outputId": "c71fd64a-b11d-44e9-9592-32fb0e9c619d"
      },
      "outputs": [
        {
          "name": "stderr",
          "output_type": "stream",
          "text": [
            "ERROR:root:Internal Python error in the inspect module.\n",
            "Below is the traceback from this internal error.\n",
            "\n",
            "\n",
            "KeyboardInterrupt\n",
            "\n"
          ]
        }
      ],
      "source": [
        "#funcion que divida dos numeros\n",
        "\n",
        "a = int(input(\"Digite el primer numero\"))\n",
        "b = int(input(\"Digite el segundo numero\"))\n",
        "\n",
        "try:\n",
        "    def division (a,b):\n",
        "      c = a / b\n",
        "      return print (c)\n",
        "\n",
        "    division (a,b)\n",
        "\n",
        "except ZeroDivisionError:\n",
        "    print (\"NO se puede dividir entre cero\")\n",
        "\n"
      ]
    },
    {
      "cell_type": "code",
      "execution_count": null,
      "metadata": {
        "colab": {
          "base_uri": "https://localhost:8080/"
        },
        "id": "5twHS8caL0B-",
        "outputId": "99d1d70a-32f0-4e4f-846d-030db4d1c8c2"
      },
      "outputs": [
        {
          "name": "stdout",
          "output_type": "stream",
          "text": [
            "Digite el primer numero0\n",
            "Digite el segundo numero0\n",
            "NO se puede dividir entre cero\n"
          ]
        }
      ],
      "source": [
        "#funcion que divida dos numeros forma 2\n",
        "\n",
        "a = int(input(\"Digite el primer numero\"))\n",
        "b = int(input(\"Digite el segundo numero\"))\n",
        "\n",
        "def division (a,b):\n",
        "  c = a / b\n",
        "  return print (c)\n",
        "\n",
        "try:\n",
        "    division (a,b)\n",
        "\n",
        "except ZeroDivisionError:\n",
        "    print (\"NO se puede dividir entre cero\")\n"
      ]
    },
    {
      "cell_type": "code",
      "execution_count": null,
      "metadata": {
        "colab": {
          "base_uri": "https://localhost:8080/"
        },
        "id": "3J8JtlkdOu4o",
        "outputId": "edbadd89-00bb-46ad-d738-de2175d9d71f"
      },
      "outputs": [
        {
          "name": "stdout",
          "output_type": "stream",
          "text": [
            "Digite el primer numero: 1\n",
            "Digite el segundo numero: 3\n",
            "0.3333333333333333\n"
          ]
        }
      ],
      "source": [
        "#funcion que divida dos numeros forma 3 sin que pare el codigo\n",
        "\n",
        "a = int(input(\"Digite el primer numero: \"))\n",
        "b = int(input(\"Digite el segundo numero: \"))\n",
        "\n",
        "def division (a,b):\n",
        "  c = a / b\n",
        "  return print (c)\n",
        "\n",
        "try:\n",
        "    division (a,b)\n",
        "\n",
        "except Exception as e:\n",
        "    print (f\"Se produjo una exepcion con el error: {e}\")\n"
      ]
    },
    {
      "cell_type": "markdown",
      "metadata": {
        "id": "c7X7ldKmRqiy"
      },
      "source": [
        "**CICLOS Y BUCLES**"
      ]
    },
    {
      "cell_type": "code",
      "execution_count": null,
      "metadata": {
        "colab": {
          "base_uri": "https://localhost:8080/"
        },
        "id": "kgUvTYswRtca",
        "outputId": "4ba40776-a0c9-4bfe-b3d0-cfbddbc73dba"
      },
      "outputs": [
        {
          "name": "stdout",
          "output_type": "stream",
          "text": [
            "2\n",
            "3\n",
            "4\n",
            "5\n",
            "6\n"
          ]
        }
      ],
      "source": [
        "#1. Ciclo\n",
        "\n",
        "#Quiero imprimir todos los numeros que se encuentren en una lista\n",
        "\n",
        "# for es la sentencia que permite generar un bucle sobre un conjunto de datos finitos, como lo puede ser una lista, tupla o cualquiera de las lista de estructura de datos\n",
        "\n",
        "numeros = [1,2,3,4,5]\n",
        "\n",
        "for num in numeros:\n",
        "  c = num + 1\n",
        "  print (c)\n"
      ]
    },
    {
      "cell_type": "code",
      "execution_count": null,
      "metadata": {
        "colab": {
          "base_uri": "https://localhost:8080/"
        },
        "id": "9aIt6jvhVqks",
        "outputId": "bcfdb966-38d5-44a5-85cf-4661534d250e"
      },
      "outputs": [
        {
          "name": "stdout",
          "output_type": "stream",
          "text": [
            "0\n",
            "1\n",
            "2\n",
            "3\n",
            "4\n",
            "5\n"
          ]
        }
      ],
      "source": [
        "for nume in range(10):\n",
        "  if nume > 5:\n",
        "    break\n",
        "  else:\n",
        "    print (nume)"
      ]
    },
    {
      "cell_type": "code",
      "execution_count": null,
      "metadata": {
        "colab": {
          "base_uri": "https://localhost:8080/"
        },
        "id": "ZZ-kCtpAWMZG",
        "outputId": "8f111d4e-f5d6-4a94-fdbf-bd89937bc97b"
      },
      "outputs": [
        {
          "name": "stdout",
          "output_type": "stream",
          "text": [
            "1\n",
            "4\n",
            "9\n",
            "16\n",
            "25\n",
            "36\n",
            "49\n"
          ]
        }
      ],
      "source": [
        "#Ejercicio: Generar un bucle que saque la exponenciacion 2 de una lista de 7 numeros\n",
        "\n",
        "numeros_exponenciacion = [1,2,3,4,5,6,7]\n",
        "\n",
        "for i in numeros_exponenciacion:\n",
        "  resultado = i ** 2\n",
        "  print (resultado)"
      ]
    },
    {
      "cell_type": "code",
      "execution_count": null,
      "metadata": {
        "colab": {
          "base_uri": "https://localhost:8080/"
        },
        "id": "DVt9Fvt6XgDu",
        "outputId": "4bb4e2ea-2513-4005-fdf8-a3c23119ef70"
      },
      "outputs": [
        {
          "output_type": "stream",
          "name": "stdout",
          "text": [
            "[90.0, 40.0, 50.0, 60.0, 70.0]\n"
          ]
        }
      ],
      "source": [
        "#Ejercicio 2: De una lista de precios dada, calcule un descuento del 10% para todos los precios y añadirlos a una nueva lista\n",
        "\n",
        "precios_actuales = [900,400,500,600,700]\n",
        "precios_descuento = []\n",
        "\n",
        "for precio in precios_actuales:\n",
        "  nuevo_precio = precio * 0.1\n",
        "  precios_descuento.append (nuevo_precio)\n",
        "\n",
        "print (precios_descuento)"
      ]
    },
    {
      "cell_type": "code",
      "execution_count": null,
      "metadata": {
        "colab": {
          "base_uri": "https://localhost:8080/"
        },
        "id": "cUX3KjEAZbDx",
        "outputId": "0dacc092-6f6e-486f-f4b1-4054db7cdd08"
      },
      "outputs": [
        {
          "name": "stdout",
          "output_type": "stream",
          "text": [
            "0\n",
            "1\n",
            "2\n",
            "3\n",
            "4\n",
            "5\n"
          ]
        }
      ],
      "source": [
        "contador = 0\n",
        "\n",
        "while contador <= 5 :\n",
        "  print(contador)\n",
        "  contador += 1"
      ]
    },
    {
      "cell_type": "code",
      "execution_count": null,
      "metadata": {
        "colab": {
          "base_uri": "https://localhost:8080/"
        },
        "collapsed": true,
        "id": "1IKNrYSTayaC",
        "outputId": "0d8d50c8-0148-4b65-9a58-e7db6bc796ed"
      },
      "outputs": [
        {
          "name": "stdout",
          "output_type": "stream",
          "text": [
            "Ingrese contraseña: secreta123\n",
            "Bienvenido al sistema\n"
          ]
        }
      ],
      "source": [
        "#Generar un programa de inicio de sesion con 3 intentos, despues del 3 intento se bloquea\n",
        "\n",
        "intento_sesion = 3\n",
        "password = \"secreta123\"\n",
        "\n",
        "while intento_sesion > 0:\n",
        "  contrasena = input(\"Ingrese contraseña: \")\n",
        "  if contrasena == \"secreta123\":\n",
        "    print (\"Bienvenido al sistema\")\n",
        "    break\n",
        "  else:\n",
        "    intento_sesion -= 1\n",
        "    print (f\"Contraseña incorrecta, intente nuevamente. Intentos restantes {intento_sesion}\")\n",
        "if intento_sesion == 0:\n",
        "  print (\"Excediste el numero de intentos, bloqueando el sistema\")\n",
        "\n"
      ]
    },
    {
      "cell_type": "markdown",
      "metadata": {
        "id": "MDCWO0iUeGnX"
      },
      "source": [
        "Escribe un programa que permita al usuario adivinar un número secreto entre 1 y 10. El programa debe seguir pidiendo al usuario que adivine hasta que acierte.\n",
        "\n",
        "**Instrucciones:**\n",
        "\n",
        "Define un número secreto.\n",
        "\n",
        "Utiliza un bucle while para seguir solicitando adivinanzas al usuario hasta que acierte.\n",
        "\n",
        "Si el usuario adivina el número, imprime un mensaje de felicitación y termina el programa.\n"
      ]
    },
    {
      "cell_type": "code",
      "execution_count": null,
      "metadata": {
        "colab": {
          "base_uri": "https://localhost:8080/",
          "height": 365
        },
        "collapsed": true,
        "id": "h_RwAIo4eFp2",
        "outputId": "f0149712-3cfd-40c9-9353-4d7bf8dfa773"
      },
      "outputs": [
        {
          "ename": "KeyboardInterrupt",
          "evalue": "Interrupted by user",
          "output_type": "error",
          "traceback": [
            "\u001b[0;31m---------------------------------------------------------------------------\u001b[0m",
            "\u001b[0;31mKeyboardInterrupt\u001b[0m                         Traceback (most recent call last)",
            "\u001b[0;32m<ipython-input-53-a2ea02080d60>\u001b[0m in \u001b[0;36m<cell line: 4>\u001b[0;34m()\u001b[0m\n\u001b[1;32m      3\u001b[0m \u001b[0;34m\u001b[0m\u001b[0m\n\u001b[1;32m      4\u001b[0m \u001b[0;32mwhile\u001b[0m \u001b[0mnumero_secreto\u001b[0m \u001b[0;34m==\u001b[0m \u001b[0;36m6\u001b[0m\u001b[0;34m:\u001b[0m\u001b[0;34m\u001b[0m\u001b[0;34m\u001b[0m\u001b[0m\n\u001b[0;32m----> 5\u001b[0;31m   \u001b[0mintento\u001b[0m \u001b[0;34m=\u001b[0m \u001b[0mint\u001b[0m\u001b[0;34m(\u001b[0m\u001b[0minput\u001b[0m\u001b[0;34m(\u001b[0m\u001b[0;34m\"Ingrese un numero: \"\u001b[0m\u001b[0;34m)\u001b[0m\u001b[0;34m)\u001b[0m\u001b[0;34m\u001b[0m\u001b[0;34m\u001b[0m\u001b[0m\n\u001b[0m\u001b[1;32m      6\u001b[0m   \u001b[0;32mif\u001b[0m \u001b[0mintento\u001b[0m \u001b[0;34m==\u001b[0m \u001b[0mnumero_secreto\u001b[0m\u001b[0;34m:\u001b[0m\u001b[0;34m\u001b[0m\u001b[0;34m\u001b[0m\u001b[0m\n\u001b[1;32m      7\u001b[0m     \u001b[0mprint\u001b[0m \u001b[0;34m(\u001b[0m\u001b[0;34m\"Felicidades adivinaste el numero\"\u001b[0m\u001b[0;34m)\u001b[0m\u001b[0;34m\u001b[0m\u001b[0;34m\u001b[0m\u001b[0m\n",
            "\u001b[0;32m/usr/local/lib/python3.10/dist-packages/ipykernel/kernelbase.py\u001b[0m in \u001b[0;36mraw_input\u001b[0;34m(self, prompt)\u001b[0m\n\u001b[1;32m    849\u001b[0m                 \u001b[0;34m\"raw_input was called, but this frontend does not support input requests.\"\u001b[0m\u001b[0;34m\u001b[0m\u001b[0;34m\u001b[0m\u001b[0m\n\u001b[1;32m    850\u001b[0m             )\n\u001b[0;32m--> 851\u001b[0;31m         return self._input_request(str(prompt),\n\u001b[0m\u001b[1;32m    852\u001b[0m             \u001b[0mself\u001b[0m\u001b[0;34m.\u001b[0m\u001b[0m_parent_ident\u001b[0m\u001b[0;34m,\u001b[0m\u001b[0;34m\u001b[0m\u001b[0;34m\u001b[0m\u001b[0m\n\u001b[1;32m    853\u001b[0m             \u001b[0mself\u001b[0m\u001b[0;34m.\u001b[0m\u001b[0m_parent_header\u001b[0m\u001b[0;34m,\u001b[0m\u001b[0;34m\u001b[0m\u001b[0;34m\u001b[0m\u001b[0m\n",
            "\u001b[0;32m/usr/local/lib/python3.10/dist-packages/ipykernel/kernelbase.py\u001b[0m in \u001b[0;36m_input_request\u001b[0;34m(self, prompt, ident, parent, password)\u001b[0m\n\u001b[1;32m    893\u001b[0m             \u001b[0;32mexcept\u001b[0m \u001b[0mKeyboardInterrupt\u001b[0m\u001b[0;34m:\u001b[0m\u001b[0;34m\u001b[0m\u001b[0;34m\u001b[0m\u001b[0m\n\u001b[1;32m    894\u001b[0m                 \u001b[0;31m# re-raise KeyboardInterrupt, to truncate traceback\u001b[0m\u001b[0;34m\u001b[0m\u001b[0;34m\u001b[0m\u001b[0m\n\u001b[0;32m--> 895\u001b[0;31m                 \u001b[0;32mraise\u001b[0m \u001b[0mKeyboardInterrupt\u001b[0m\u001b[0;34m(\u001b[0m\u001b[0;34m\"Interrupted by user\"\u001b[0m\u001b[0;34m)\u001b[0m \u001b[0;32mfrom\u001b[0m \u001b[0;32mNone\u001b[0m\u001b[0;34m\u001b[0m\u001b[0;34m\u001b[0m\u001b[0m\n\u001b[0m\u001b[1;32m    896\u001b[0m             \u001b[0;32mexcept\u001b[0m \u001b[0mException\u001b[0m \u001b[0;32mas\u001b[0m \u001b[0me\u001b[0m\u001b[0;34m:\u001b[0m\u001b[0;34m\u001b[0m\u001b[0;34m\u001b[0m\u001b[0m\n\u001b[1;32m    897\u001b[0m                 \u001b[0mself\u001b[0m\u001b[0;34m.\u001b[0m\u001b[0mlog\u001b[0m\u001b[0;34m.\u001b[0m\u001b[0mwarning\u001b[0m\u001b[0;34m(\u001b[0m\u001b[0;34m\"Invalid Message:\"\u001b[0m\u001b[0;34m,\u001b[0m \u001b[0mexc_info\u001b[0m\u001b[0;34m=\u001b[0m\u001b[0;32mTrue\u001b[0m\u001b[0;34m)\u001b[0m\u001b[0;34m\u001b[0m\u001b[0;34m\u001b[0m\u001b[0m\n",
            "\u001b[0;31mKeyboardInterrupt\u001b[0m: Interrupted by user"
          ]
        }
      ],
      "source": [
        "numero_secreto = 6\n",
        "intentos_adivinar = 1\n",
        "\n",
        "while numero_secreto == 6:\n",
        "  intento = int(input(\"Ingrese un numero: \"))\n",
        "  if intento == numero_secreto:\n",
        "    print (\"Felicidades adivinaste el numero\")\n",
        "    print (f\"Te tomo {intentos_adivinar} intentos adivinar el numero\")\n",
        "    break\n",
        "  else:\n",
        "    intentos_adivinar += 1\n",
        "    print (\"Numero equivocado, intenta de nuevo\")\n"
      ]
    },
    {
      "cell_type": "code",
      "execution_count": null,
      "metadata": {
        "colab": {
          "base_uri": "https://localhost:8080/"
        },
        "id": "ZiB8cuhfil2r",
        "outputId": "a46c3bc4-63d3-496b-9065-202095affb20"
      },
      "outputs": [
        {
          "name": "stdout",
          "output_type": "stream",
          "text": [
            "Ingrese un numero: 1\n",
            "Numero equivocado, intentos restantes: 4\n",
            "Ingrese un numero: 2\n",
            "Numero equivocado, intentos restantes: 3\n",
            "Ingrese un numero: 3\n",
            "Numero equivocado, intentos restantes: 2\n",
            "Ingrese un numero: 5\n",
            "Numero equivocado, intentos restantes: 1\n",
            "Ingrese un numero: 7\n",
            "Numero equivocado, intentos restantes: 0\n",
            "Ingrese un numero: 6\n",
            "Felicidades adivinaste el numero\n",
            "Te tomo 0 intentos adivinar el numero\n",
            "Te has quedado sin intentos\n"
          ]
        }
      ],
      "source": [
        "#por corregir\n",
        "\n",
        "numero_secreto = 6\n",
        "intentos_adivinar = 5\n",
        "\n",
        "while numero_secreto == 6:\n",
        "  intento = int(input(\"Ingrese un numero: \"))\n",
        "  if intento == numero_secreto:\n",
        "    print (\"Felicidades adivinaste el numero\")\n",
        "    print (f\"Te tomo {intentos_adivinar} intentos adivinar el numero\")\n",
        "    break\n",
        "  else:\n",
        "    intentos_adivinar -= 1\n",
        "    print (f\"Numero equivocado, intentos restantes: {intentos_adivinar}\")\n",
        "if intentos_adivinar == 0:\n",
        "  print (\"Te has quedado sin intentos\")"
      ]
    },
    {
      "cell_type": "markdown",
      "metadata": {
        "id": "GaYeUQowjk4J"
      },
      "source": [
        "**Ejercicio 3: Tabla de Multiplicar (Bucle for y while)**\n",
        "\n",
        "**Descripción:**\n",
        "\n",
        "Escribe un programa que genere la tabla de multiplicar de un número ingresado por el usuario. El programa debe continuar pidiendo un número hasta que el usuario ingrese 0.\n",
        "\n",
        "**Instrucciones:**\n",
        "\n",
        "Utiliza un bucle while para pedir un número al usuario.\n",
        "\n",
        "Si el número es diferente de 0, usa un bucle for para imprimir la tabla de multiplicar de ese número.\n",
        "\n",
        "Si el usuario ingresa 0, termina el programa."
      ]
    },
    {
      "cell_type": "code",
      "execution_count": null,
      "metadata": {
        "colab": {
          "background_save": true
        },
        "id": "ITBIWOXLjZ9X",
        "outputId": "c02c07e3-692f-4d56-8880-80541f31dfc8"
      },
      "outputs": [],
      "source": [
        "codigo_finalizar = 0\n",
        "tabla_multiplicacion = [1,2,3,4,5,6,7,8,9]\n",
        "tabla_multiplicacion_vacia = []\n",
        "\n",
        "while codigo_finalizar == 0:\n",
        "  numero_multiplicar = int(input (\"ingrese un numero: \"))\n",
        "  if numero_multiplicar == 0:\n",
        "    print (\"Se cierra el programa\")\n",
        "    break\n",
        "  else:\n",
        "    for multiplicacion in tabla_multiplicacion:\n",
        "      valores = multiplicacion ** codigo_finalizar\n",
        "      tabla_multiplicacion.append(valores)\n",
        "      print (f\"estos son los valores:\")\n",
        "      print (tabla_multiplicacion)\n",
        "\n",
        "\n",
        "\n",
        "\n",
        "\n"
      ]
    }
  ],
  "metadata": {
    "colab": {
      "provenance": [],
      "authorship_tag": "ABX9TyMkUv3TzArZBxx5hQs0CRHw",
      "include_colab_link": true
    },
    "kernelspec": {
      "display_name": "Python 3",
      "name": "python3"
    },
    "language_info": {
      "name": "python"
    }
  },
  "nbformat": 4,
  "nbformat_minor": 0
}