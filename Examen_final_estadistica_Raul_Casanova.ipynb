{
  "nbformat": 4,
  "nbformat_minor": 0,
  "metadata": {
    "colab": {
      "provenance": [],
      "include_colab_link": true
    },
    "kernelspec": {
      "name": "python3",
      "display_name": "Python 3"
    },
    "language_info": {
      "name": "python"
    }
  },
  "cells": [
    {
      "cell_type": "markdown",
      "metadata": {
        "id": "view-in-github",
        "colab_type": "text"
      },
      "source": [
        "<a href=\"https://colab.research.google.com/github/RacaProjects/Curso_Python/blob/main/Examen_final_estadistica_Raul_Casanova.ipynb\" target=\"_parent\"><img src=\"https://colab.research.google.com/assets/colab-badge.svg\" alt=\"Open In Colab\"/></a>"
      ]
    },
    {
      "cell_type": "code",
      "execution_count": 3,
      "metadata": {
        "colab": {
          "base_uri": "https://localhost:8080/",
          "height": 74
        },
        "id": "a7qyaSR3QHW1",
        "outputId": "a05335ee-5b51-4ca7-a7f7-e56babcc0d9b"
      },
      "outputs": [
        {
          "output_type": "display_data",
          "data": {
            "text/plain": [
              "<IPython.core.display.HTML object>"
            ],
            "text/html": [
              "\n",
              "     <input type=\"file\" id=\"files-8290d383-9929-40fb-8e92-1f58dc067dc6\" name=\"files[]\" multiple disabled\n",
              "        style=\"border:none\" />\n",
              "     <output id=\"result-8290d383-9929-40fb-8e92-1f58dc067dc6\">\n",
              "      Upload widget is only available when the cell has been executed in the\n",
              "      current browser session. Please rerun this cell to enable.\n",
              "      </output>\n",
              "      <script>// Copyright 2017 Google LLC\n",
              "//\n",
              "// Licensed under the Apache License, Version 2.0 (the \"License\");\n",
              "// you may not use this file except in compliance with the License.\n",
              "// You may obtain a copy of the License at\n",
              "//\n",
              "//      http://www.apache.org/licenses/LICENSE-2.0\n",
              "//\n",
              "// Unless required by applicable law or agreed to in writing, software\n",
              "// distributed under the License is distributed on an \"AS IS\" BASIS,\n",
              "// WITHOUT WARRANTIES OR CONDITIONS OF ANY KIND, either express or implied.\n",
              "// See the License for the specific language governing permissions and\n",
              "// limitations under the License.\n",
              "\n",
              "/**\n",
              " * @fileoverview Helpers for google.colab Python module.\n",
              " */\n",
              "(function(scope) {\n",
              "function span(text, styleAttributes = {}) {\n",
              "  const element = document.createElement('span');\n",
              "  element.textContent = text;\n",
              "  for (const key of Object.keys(styleAttributes)) {\n",
              "    element.style[key] = styleAttributes[key];\n",
              "  }\n",
              "  return element;\n",
              "}\n",
              "\n",
              "// Max number of bytes which will be uploaded at a time.\n",
              "const MAX_PAYLOAD_SIZE = 100 * 1024;\n",
              "\n",
              "function _uploadFiles(inputId, outputId) {\n",
              "  const steps = uploadFilesStep(inputId, outputId);\n",
              "  const outputElement = document.getElementById(outputId);\n",
              "  // Cache steps on the outputElement to make it available for the next call\n",
              "  // to uploadFilesContinue from Python.\n",
              "  outputElement.steps = steps;\n",
              "\n",
              "  return _uploadFilesContinue(outputId);\n",
              "}\n",
              "\n",
              "// This is roughly an async generator (not supported in the browser yet),\n",
              "// where there are multiple asynchronous steps and the Python side is going\n",
              "// to poll for completion of each step.\n",
              "// This uses a Promise to block the python side on completion of each step,\n",
              "// then passes the result of the previous step as the input to the next step.\n",
              "function _uploadFilesContinue(outputId) {\n",
              "  const outputElement = document.getElementById(outputId);\n",
              "  const steps = outputElement.steps;\n",
              "\n",
              "  const next = steps.next(outputElement.lastPromiseValue);\n",
              "  return Promise.resolve(next.value.promise).then((value) => {\n",
              "    // Cache the last promise value to make it available to the next\n",
              "    // step of the generator.\n",
              "    outputElement.lastPromiseValue = value;\n",
              "    return next.value.response;\n",
              "  });\n",
              "}\n",
              "\n",
              "/**\n",
              " * Generator function which is called between each async step of the upload\n",
              " * process.\n",
              " * @param {string} inputId Element ID of the input file picker element.\n",
              " * @param {string} outputId Element ID of the output display.\n",
              " * @return {!Iterable<!Object>} Iterable of next steps.\n",
              " */\n",
              "function* uploadFilesStep(inputId, outputId) {\n",
              "  const inputElement = document.getElementById(inputId);\n",
              "  inputElement.disabled = false;\n",
              "\n",
              "  const outputElement = document.getElementById(outputId);\n",
              "  outputElement.innerHTML = '';\n",
              "\n",
              "  const pickedPromise = new Promise((resolve) => {\n",
              "    inputElement.addEventListener('change', (e) => {\n",
              "      resolve(e.target.files);\n",
              "    });\n",
              "  });\n",
              "\n",
              "  const cancel = document.createElement('button');\n",
              "  inputElement.parentElement.appendChild(cancel);\n",
              "  cancel.textContent = 'Cancel upload';\n",
              "  const cancelPromise = new Promise((resolve) => {\n",
              "    cancel.onclick = () => {\n",
              "      resolve(null);\n",
              "    };\n",
              "  });\n",
              "\n",
              "  // Wait for the user to pick the files.\n",
              "  const files = yield {\n",
              "    promise: Promise.race([pickedPromise, cancelPromise]),\n",
              "    response: {\n",
              "      action: 'starting',\n",
              "    }\n",
              "  };\n",
              "\n",
              "  cancel.remove();\n",
              "\n",
              "  // Disable the input element since further picks are not allowed.\n",
              "  inputElement.disabled = true;\n",
              "\n",
              "  if (!files) {\n",
              "    return {\n",
              "      response: {\n",
              "        action: 'complete',\n",
              "      }\n",
              "    };\n",
              "  }\n",
              "\n",
              "  for (const file of files) {\n",
              "    const li = document.createElement('li');\n",
              "    li.append(span(file.name, {fontWeight: 'bold'}));\n",
              "    li.append(span(\n",
              "        `(${file.type || 'n/a'}) - ${file.size} bytes, ` +\n",
              "        `last modified: ${\n",
              "            file.lastModifiedDate ? file.lastModifiedDate.toLocaleDateString() :\n",
              "                                    'n/a'} - `));\n",
              "    const percent = span('0% done');\n",
              "    li.appendChild(percent);\n",
              "\n",
              "    outputElement.appendChild(li);\n",
              "\n",
              "    const fileDataPromise = new Promise((resolve) => {\n",
              "      const reader = new FileReader();\n",
              "      reader.onload = (e) => {\n",
              "        resolve(e.target.result);\n",
              "      };\n",
              "      reader.readAsArrayBuffer(file);\n",
              "    });\n",
              "    // Wait for the data to be ready.\n",
              "    let fileData = yield {\n",
              "      promise: fileDataPromise,\n",
              "      response: {\n",
              "        action: 'continue',\n",
              "      }\n",
              "    };\n",
              "\n",
              "    // Use a chunked sending to avoid message size limits. See b/62115660.\n",
              "    let position = 0;\n",
              "    do {\n",
              "      const length = Math.min(fileData.byteLength - position, MAX_PAYLOAD_SIZE);\n",
              "      const chunk = new Uint8Array(fileData, position, length);\n",
              "      position += length;\n",
              "\n",
              "      const base64 = btoa(String.fromCharCode.apply(null, chunk));\n",
              "      yield {\n",
              "        response: {\n",
              "          action: 'append',\n",
              "          file: file.name,\n",
              "          data: base64,\n",
              "        },\n",
              "      };\n",
              "\n",
              "      let percentDone = fileData.byteLength === 0 ?\n",
              "          100 :\n",
              "          Math.round((position / fileData.byteLength) * 100);\n",
              "      percent.textContent = `${percentDone}% done`;\n",
              "\n",
              "    } while (position < fileData.byteLength);\n",
              "  }\n",
              "\n",
              "  // All done.\n",
              "  yield {\n",
              "    response: {\n",
              "      action: 'complete',\n",
              "    }\n",
              "  };\n",
              "}\n",
              "\n",
              "scope.google = scope.google || {};\n",
              "scope.google.colab = scope.google.colab || {};\n",
              "scope.google.colab._files = {\n",
              "  _uploadFiles,\n",
              "  _uploadFilesContinue,\n",
              "};\n",
              "})(self);\n",
              "</script> "
            ]
          },
          "metadata": {}
        },
        {
          "output_type": "stream",
          "name": "stdout",
          "text": [
            "Saving Base Ventas Celulares.csv to Base Ventas Celulares (1).csv\n"
          ]
        }
      ],
      "source": [
        "import pandas as pd\n",
        "import numpy as np\n",
        "import math\n",
        "import matplotlib.pyplot as plt\n",
        "\n",
        "from google.colab import files\n",
        "uploaded = files.upload()"
      ]
    },
    {
      "cell_type": "code",
      "source": [
        "data_celulares=pd.read_csv('Base Ventas Celulares.csv')\n",
        "print(data_celulares.head())"
      ],
      "metadata": {
        "colab": {
          "base_uri": "https://localhost:8080/",
          "height": 0
        },
        "id": "nkuRRH2IQWyM",
        "outputId": "50ae1d98-08fe-4d6b-8965-3e394fe9b9b1"
      },
      "execution_count": 4,
      "outputs": [
        {
          "output_type": "stream",
          "name": "stdout",
          "text": [
            "   Fecha Codigo         País Distribuidor Producto  Operador  Cantidad  \\\n",
            "0  40181   A640  El Salvador       Ripley  Samsung  Movistar        15   \n",
            "1  40183   A687       España    Plaza Vea       LG     Entel        29   \n",
            "2  40185  A1162     Paraguay        Metro    Nokia     Entel        21   \n",
            "3  40189   A463         Cuba      Oeschle    Apple     Entel        30   \n",
            "4  40190   A847    Guatemala        Metro       LG     Claro         7   \n",
            "\n",
            "  Forma de pago   Precio     Total  \n",
            "0      Efectivo  1750000  26250000  \n",
            "1      Efectivo  1100000  31900000  \n",
            "2      Efectivo   950000  19950000  \n",
            "3      Efectivo   710000  21300000  \n",
            "4      Efectivo  1610000  11270000  \n"
          ]
        }
      ]
    },
    {
      "cell_type": "code",
      "source": [
        "print(data_celulares.info())"
      ],
      "metadata": {
        "colab": {
          "base_uri": "https://localhost:8080/",
          "height": 0
        },
        "id": "ymLAL9QARv5C",
        "outputId": "36ae0587-2ab7-43f8-9863-ea64f6e64000"
      },
      "execution_count": 5,
      "outputs": [
        {
          "output_type": "stream",
          "name": "stdout",
          "text": [
            "<class 'pandas.core.frame.DataFrame'>\n",
            "RangeIndex: 1499 entries, 0 to 1498\n",
            "Data columns (total 10 columns):\n",
            " #   Column         Non-Null Count  Dtype \n",
            "---  ------         --------------  ----- \n",
            " 0   Fecha          1499 non-null   int64 \n",
            " 1   Codigo         1499 non-null   object\n",
            " 2   País           1499 non-null   object\n",
            " 3   Distribuidor   1499 non-null   object\n",
            " 4   Producto       1499 non-null   object\n",
            " 5   Operador       1499 non-null   object\n",
            " 6   Cantidad       1499 non-null   int64 \n",
            " 7   Forma de pago  1499 non-null   object\n",
            " 8   Precio         1499 non-null   int64 \n",
            " 9   Total          1499 non-null   int64 \n",
            "dtypes: int64(4), object(6)\n",
            "memory usage: 117.2+ KB\n",
            "None\n"
          ]
        }
      ]
    },
    {
      "cell_type": "code",
      "source": [
        "print(data_celulares.describe())"
      ],
      "metadata": {
        "colab": {
          "base_uri": "https://localhost:8080/",
          "height": 0
        },
        "id": "57xdGHDTR1wx",
        "outputId": "5c50a472-6502-4c50-a791-7c36131673a2"
      },
      "execution_count": 6,
      "outputs": [
        {
          "output_type": "stream",
          "name": "stdout",
          "text": [
            "              Fecha     Cantidad        Precio         Total\n",
            "count   1499.000000  1499.000000  1.499000e+03  1.499000e+03\n",
            "mean   41080.438959    15.587725  1.343149e+06  2.095867e+07\n",
            "std      526.935553     8.725804  3.703282e+05  1.347546e+07\n",
            "min    40181.000000     1.000000  7.000000e+05  7.100000e+05\n",
            "25%    40618.500000     8.000000  1.010000e+06  9.940000e+06\n",
            "50%    41059.000000    16.000000  1.340000e+06  1.940000e+07\n",
            "75%    41540.500000    23.000000  1.660000e+06  2.988500e+07\n",
            "max    42004.000000    30.000000  2.000000e+06  5.940000e+07\n"
          ]
        }
      ]
    },
    {
      "cell_type": "markdown",
      "source": [
        "**Columna Cantidad**"
      ],
      "metadata": {
        "id": "KYD6_OJJVPS-"
      }
    },
    {
      "cell_type": "code",
      "source": [
        "media_cantidad = data_celulares['Cantidad'].mean()\n",
        "print(f\"la media de la columna de cantidad es: {media_cantidad}\")"
      ],
      "metadata": {
        "colab": {
          "base_uri": "https://localhost:8080/",
          "height": 0
        },
        "id": "NK9dpTBxSHnm",
        "outputId": "dd961124-231c-473f-962b-32a18ea8caf1"
      },
      "execution_count": 7,
      "outputs": [
        {
          "output_type": "stream",
          "name": "stdout",
          "text": [
            "la media de la columna de cantidad es: 15.587725150100066\n"
          ]
        }
      ]
    },
    {
      "cell_type": "code",
      "source": [
        "mediana_cantidad = data_celulares['Cantidad'].median()\n",
        "print(f\"la mediana de la columna de cantidad es: {mediana_cantidad}\")"
      ],
      "metadata": {
        "colab": {
          "base_uri": "https://localhost:8080/",
          "height": 0
        },
        "id": "wMxlKheySQV8",
        "outputId": "ab57af3c-9aca-428a-bb1c-5e3fa4b110a1"
      },
      "execution_count": 8,
      "outputs": [
        {
          "output_type": "stream",
          "name": "stdout",
          "text": [
            "la mediana de la columna de cantidad es: 16.0\n"
          ]
        }
      ]
    },
    {
      "cell_type": "code",
      "source": [
        "moda_cantidad = data_celulares['Cantidad'].mode()\n",
        "print(f\"la moda de la columna de cantidad es: {moda_cantidad}\")"
      ],
      "metadata": {
        "colab": {
          "base_uri": "https://localhost:8080/",
          "height": 0
        },
        "id": "AT1EsI6pSdLO",
        "outputId": "e9b4f5d4-d52c-4234-e948-1dedc033741b"
      },
      "execution_count": 9,
      "outputs": [
        {
          "output_type": "stream",
          "name": "stdout",
          "text": [
            "la moda de la columna de cantidad es: 0    24\n",
            "Name: Cantidad, dtype: int64\n"
          ]
        }
      ]
    },
    {
      "cell_type": "code",
      "source": [
        "varianza_cantidad = data_celulares['Cantidad'].var()\n",
        "print(f\"la varianza de la columna de cantidad es: {varianza_cantidad}\")"
      ],
      "metadata": {
        "colab": {
          "base_uri": "https://localhost:8080/",
          "height": 0
        },
        "id": "hQ4Zk4I8Szi7",
        "outputId": "d32f7b92-a0ab-495f-ca45-6a9c6d38412f"
      },
      "execution_count": 10,
      "outputs": [
        {
          "output_type": "stream",
          "name": "stdout",
          "text": [
            "la varianza de la columna de cantidad es: 76.13966231158967\n"
          ]
        }
      ]
    },
    {
      "cell_type": "code",
      "source": [
        "desviacion_cantidad = data_celulares['Cantidad'].std()\n",
        "print(f\"la desviacion de la columna de cantidad es: {desviacion_cantidad}\")"
      ],
      "metadata": {
        "colab": {
          "base_uri": "https://localhost:8080/",
          "height": 0
        },
        "id": "fTCgq2qtTAYv",
        "outputId": "b8bfafc0-bb71-4aee-bd0d-9812a23a21ef"
      },
      "execution_count": 11,
      "outputs": [
        {
          "output_type": "stream",
          "name": "stdout",
          "text": [
            "la desviacion de la columna de cantidad es: 8.725804393383436\n"
          ]
        }
      ]
    },
    {
      "cell_type": "code",
      "source": [
        "cv_Cantidad = (desviacion_cantidad/media_cantidad) * 100\n",
        "\n",
        "print(f\"el coeficiente de la variacion de la Cantidad es: {cv_Cantidad:.2f}%\")"
      ],
      "metadata": {
        "colab": {
          "base_uri": "https://localhost:8080/",
          "height": 0
        },
        "id": "UI0IXl8VTLJl",
        "outputId": "96177f81-c053-4fab-f8f3-0b67d30cda80"
      },
      "execution_count": 12,
      "outputs": [
        {
          "output_type": "stream",
          "name": "stdout",
          "text": [
            "el coeficiente de la variacion de la Cantidad es: 55.98%\n"
          ]
        }
      ]
    },
    {
      "cell_type": "markdown",
      "source": [
        "**Columna Total**"
      ],
      "metadata": {
        "id": "1JNP88A8U9pe"
      }
    },
    {
      "cell_type": "code",
      "source": [
        "media_Total = data_celulares['Total'].mean()\n",
        "print(f\"la media total es: {media_Total}\")"
      ],
      "metadata": {
        "colab": {
          "base_uri": "https://localhost:8080/",
          "height": 0
        },
        "id": "ai609w4EUHmM",
        "outputId": "3e829aa9-539f-4f77-aafb-15732a66099e"
      },
      "execution_count": 13,
      "outputs": [
        {
          "output_type": "stream",
          "name": "stdout",
          "text": [
            "la media total es: 20958672.448298864\n"
          ]
        }
      ]
    },
    {
      "cell_type": "code",
      "source": [
        "mediana_Total = data_celulares['Total'].median()\n",
        "print(f\"la mediana total es: {mediana_Total}\")"
      ],
      "metadata": {
        "colab": {
          "base_uri": "https://localhost:8080/",
          "height": 0
        },
        "id": "Td6Dial3UOS0",
        "outputId": "e451619c-8f28-4447-c79f-eae14ca18af2"
      },
      "execution_count": 14,
      "outputs": [
        {
          "output_type": "stream",
          "name": "stdout",
          "text": [
            "la mediana total es: 19400000.0\n"
          ]
        }
      ]
    },
    {
      "cell_type": "code",
      "source": [
        "moda_Total = data_celulares['Total'].mode()\n",
        "print(f\"la moda total es: {moda_Total}\")"
      ],
      "metadata": {
        "colab": {
          "base_uri": "https://localhost:8080/",
          "height": 0
        },
        "id": "A8B_rLLgUZ0B",
        "outputId": "7ace0a74-fc2a-4829-e213-b0fb901995df"
      },
      "execution_count": 15,
      "outputs": [
        {
          "output_type": "stream",
          "name": "stdout",
          "text": [
            "la moda total es: 0    17100000\n",
            "Name: Total, dtype: int64\n"
          ]
        }
      ]
    },
    {
      "cell_type": "code",
      "source": [
        "varianza_Total = data_celulares['Total'].var()\n",
        "print(f\"la varianza es: {varianza_Total}\")"
      ],
      "metadata": {
        "colab": {
          "base_uri": "https://localhost:8080/",
          "height": 0
        },
        "id": "Mlvw4-3iUgvC",
        "outputId": "9d0ce1b1-5a75-4517-f70f-16de00e5e441"
      },
      "execution_count": 16,
      "outputs": [
        {
          "output_type": "stream",
          "name": "stdout",
          "text": [
            "la varianza es: 181587901774480.44\n"
          ]
        }
      ]
    },
    {
      "cell_type": "code",
      "source": [
        "desviacion_Total = data_celulares['Total'].std()\n",
        "print(f\"la desviacion estandar es: {desviacion_Total}\")"
      ],
      "metadata": {
        "colab": {
          "base_uri": "https://localhost:8080/",
          "height": 0
        },
        "id": "3j8zSrfdUmoI",
        "outputId": "6eb176fb-8697-4049-98c8-d9fe93e4adc0"
      },
      "execution_count": 17,
      "outputs": [
        {
          "output_type": "stream",
          "name": "stdout",
          "text": [
            "la desviacion estandar es: 13475455.531241994\n"
          ]
        }
      ]
    },
    {
      "cell_type": "code",
      "source": [
        "cv_Total = (desviacion_Total/media_Total) * 100\n",
        "\n",
        "print(f\"el coeficiente de variacion de Cantidad es: {cv_Total:.2f}%\")"
      ],
      "metadata": {
        "colab": {
          "base_uri": "https://localhost:8080/",
          "height": 0
        },
        "id": "qrPn6q0zUxH5",
        "outputId": "352f92a2-0b3c-4356-967d-b0964f5b3683"
      },
      "execution_count": 18,
      "outputs": [
        {
          "output_type": "stream",
          "name": "stdout",
          "text": [
            "el coeficiente de variacion de Cantidad es: 64.30%\n"
          ]
        }
      ]
    }
  ]
}