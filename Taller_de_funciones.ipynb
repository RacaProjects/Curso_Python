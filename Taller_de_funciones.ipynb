{
  "nbformat": 4,
  "nbformat_minor": 0,
  "metadata": {
    "colab": {
      "provenance": [],
      "authorship_tag": "ABX9TyPggqXwEz5T11W0g/9QFUwl",
      "include_colab_link": true
    },
    "kernelspec": {
      "name": "python3",
      "display_name": "Python 3"
    },
    "language_info": {
      "name": "python"
    }
  },
  "cells": [
    {
      "cell_type": "markdown",
      "metadata": {
        "id": "view-in-github",
        "colab_type": "text"
      },
      "source": [
        "<a href=\"https://colab.research.google.com/github/RacaProjects/Curso_Python/blob/main/Taller_de_funciones.ipynb\" target=\"_parent\"><img src=\"https://colab.research.google.com/assets/colab-badge.svg\" alt=\"Open In Colab\"/></a>"
      ]
    },
    {
      "cell_type": "markdown",
      "source": [
        "1. Cálculo del salario neto:\n",
        "Crea una función llamada calcular_salario_neto que reciba como parámetros el salario bruto\n",
        "de un empleado y el porcentaje de impuestos. La función debe devolver el salario neto"
      ],
      "metadata": {
        "id": "j0kHis9QVasO"
      }
    },
    {
      "cell_type": "code",
      "source": [
        "def calcular_salario_neto (salario_bruto,porcentaje_impuestos):\n",
        "  valor_impuesto = salario_bruto * (porcentaje_impuestos / 100)\n",
        "  salario_final = salario_bruto - valor_impuesto\n",
        "  return print (f\"Su sueldo final es de: {salario_final}\")\n",
        "\n",
        "sueldo = int(input(\"Digite su salario: \"))\n",
        "impuesto = int(input (\"Digite el porcentaje de impuesto: \"))\n",
        "\n",
        "print (calcular_salario_neto (sueldo,impuesto))\n"
      ],
      "metadata": {
        "colab": {
          "base_uri": "https://localhost:8080/"
        },
        "id": "vYjc0p0xVcf9",
        "outputId": "1f193ddb-c2c9-4ae0-c198-7e51d3ec5b19"
      },
      "execution_count": null,
      "outputs": [
        {
          "output_type": "stream",
          "name": "stdout",
          "text": [
            "Digite su salario: 1000000\n",
            "Digite el porcentaje de impuesto: 50\n",
            "Su sueldo final es de: 500000.0\n",
            "None\n"
          ]
        }
      ]
    },
    {
      "cell_type": "markdown",
      "source": [
        "2. Calcular el precio final con descuentos:\n",
        "Diseña una función calcular_precio_final que reciba el precio de un producto y el porcentaje\n",
        "de descuento."
      ],
      "metadata": {
        "id": "tqHcPd3GVrX_"
      }
    },
    {
      "cell_type": "code",
      "source": [
        "def calcular_precio_final (valor_producto,porcentaje_descuento):\n",
        "  valor_descuento = valor_producto * (porcentaje_descuento / 100)\n",
        "  precio_final = valor_producto - valor_descuento\n",
        "  return print (f\"El valor a pagar es de: {precio_final}\")\n",
        "\n",
        "\n",
        "precio = int(input(\"Por favor registre el valor del producto: \"))\n",
        "descuento = int(input(\"Por favor digite el valor del descuento del producto: \"))\n",
        "\n",
        "print (calcular_precio_final(precio,descuento))\n",
        "\n"
      ],
      "metadata": {
        "colab": {
          "base_uri": "https://localhost:8080/"
        },
        "id": "IbVrIDa0VwH-",
        "outputId": "e3dcbb25-46b5-492d-ea46-3c1014330e0c"
      },
      "execution_count": null,
      "outputs": [
        {
          "output_type": "stream",
          "name": "stdout",
          "text": [
            "Por favor registre el valor del producto: 50000\n",
            "Por favor digite el valor del descuento del producto: 50\n",
            "El valor a pagar es de: 25000.0\n",
            "None\n"
          ]
        }
      ]
    },
    {
      "cell_type": "markdown",
      "source": [
        "3. Simulación de envío de paquetes:\n",
        "Escribe una función calcular_costo_envio que reciba el peso de un paquete y la distancia de\n",
        "envío, y devuelva el costo según estas reglas:\n",
        "Menos de 5 kg: $10 por cada 100 km.\n",
        "Entre 5 y 20 kg: $15 por cada 100 km.\n",
        "Más de 20 kg: $25 por cada 100 km"
      ],
      "metadata": {
        "id": "uvnYZ7muVwxx"
      }
    },
    {
      "cell_type": "code",
      "source": [
        "def calcular_costo_envio (peso_paquete,distancia_envio):\n",
        "\n",
        "  \"\"\"\n",
        "  reglas:\n",
        "  Menos de 5 kg: 10 por cada 100km.\n",
        "  Entre5y20kg:15 por cada 100 km.\n",
        "  Más de 20 kg: $25 por cada 100 km\n",
        "\n",
        "  \"\"\"\n",
        "  if peso_paquete < 5:\n",
        "    tarifa_100km = 10\n",
        "  elif 5 <= peso_paquete <= 20 :\n",
        "    tarifa_100km = 15\n",
        "  else:\n",
        "    tarifa_100km = 25\n",
        "\n",
        "  costo_total = (distancia_envio / 100) * tarifa_100km\n",
        "  return costo_total\n",
        "\n",
        "peso = float(input(\"Ingrese el peso del paquete: \"))\n",
        "distancia = float(input(\"Ingrese la distancia a recorrer en km: \"))\n",
        "\n",
        "costo_final = calcular_costo_envio (peso,distancia)\n",
        "\n",
        "print (f\"El valor a pagar por el servicio es de: {costo_final}\")\n"
      ],
      "metadata": {
        "colab": {
          "base_uri": "https://localhost:8080/"
        },
        "id": "wQcn6FGEVzwq",
        "outputId": "b989eb2b-6a9f-41e9-c95a-06fff6774e8b"
      },
      "execution_count": null,
      "outputs": [
        {
          "output_type": "stream",
          "name": "stdout",
          "text": [
            "Ingrese el peso del paquete: 4\n",
            "Ingrese la distancia a recorrer en km: 150\n",
            "El valor a pagar por el servicio es de: 15.0\n"
          ]
        }
      ]
    },
    {
      "cell_type": "markdown",
      "source": [
        "4. Verificar si un cliente califica para un crédito:\n",
        "Crea una función calificar_credito que reciba el ingreso mensual y los gastos mensuales de\n",
        "una persona. Si el ahorro (ingreso - gastos) es mayor al 30% del ingreso, devuelve True. De lo\n",
        "contrario, devuelve False."
      ],
      "metadata": {
        "id": "zqcllm_sV5yY"
      }
    },
    {
      "cell_type": "code",
      "source": [
        "def calificar_credito (ingreso_mensual,gastos_mensuales):\n",
        "  sueldo_neto = ingreso_mensual - gastos_mensuales\n",
        "\n",
        "# El 0.3 se basa en el 30%\n",
        "  if sueldo_neto > 0.3 * ingreso_mensual:\n",
        "    return True\n",
        "  else:\n",
        "    return False\n",
        "\n",
        "ingresos = float(input(\"Ingresa el ingreso mensual: $\"))\n",
        "gastos = float(input(\"Ingresa los gastos mensuales: $\"))\n",
        "\n",
        "if calificar_credito(ingresos, gastos):\n",
        "    print(\"Calificas para un credito\")\n",
        "else:\n",
        "    print(\"No calificas para un credito\")"
      ],
      "metadata": {
        "colab": {
          "base_uri": "https://localhost:8080/"
        },
        "id": "yngJ0-5ZV6M7",
        "outputId": "51a397f6-0097-4618-c757-1d3f6d14df37"
      },
      "execution_count": null,
      "outputs": [
        {
          "output_type": "stream",
          "name": "stdout",
          "text": [
            "Ingresa el ingreso mensual: $1000000\n",
            "Ingresa los gastos mensuales: $800000\n",
            "Lo sentimos, no calificas para un crédito. Intenta reducir tus gastos.\n"
          ]
        }
      ]
    },
    {
      "cell_type": "markdown",
      "source": [
        "5. Calcular el total de una factura:\n",
        "Diseña una función calcular_factura que reciba una lista de precios de productos y devuelva\n",
        "el total, incluyendo un impuesto del 16%"
      ],
      "metadata": {
        "id": "5FIVYqGnV6e4"
      }
    },
    {
      "cell_type": "code",
      "source": [
        "def calcular_factura"
      ],
      "metadata": {
        "id": "p8l1YQSWV95J"
      },
      "execution_count": null,
      "outputs": []
    },
    {
      "cell_type": "markdown",
      "source": [
        "6. Generar un recibo de pago:\n",
        "Escribe una función generar_recibo que reciba el nombre de un cliente, los productos\n",
        "comprados (como una lista de tuplas con nombre y precio), y devuelva un recibo en formato\n",
        "de texto con el total a pagar"
      ],
      "metadata": {
        "id": "eKX39v41V-Lx"
      }
    },
    {
      "cell_type": "code",
      "source": [
        "def generar_recibo (nombre_cliente,productos_comprados,)"
      ],
      "metadata": {
        "id": "sTndCkj9WA3Z"
      },
      "execution_count": null,
      "outputs": []
    },
    {
      "cell_type": "markdown",
      "source": [
        "7. Cálculo de propinas en un restaurante:\n",
        "Diseña una función calcular_propina que reciba el total de la cuenta y el porcentaje de\n",
        "propina que desea dejar el cliente. Devuelve el monto de la propina y el total a pagar.\n"
      ],
      "metadata": {
        "id": "ZODpepvzWCfr"
      }
    },
    {
      "cell_type": "code",
      "source": [
        "def calcular_propina (total_cuenta,porcentaje_propina):\n",
        "  total_propina = total_cuenta * (porcentaje_propina / 100)\n",
        "\n",
        "  return total_propina\n",
        "\n",
        "nombre_mesero = input(\"Nombre del mesero que atendio: \")\n",
        "total_cuenta_por_pagar = float(input(\"Cual fue el valor de los servicios: \"))\n",
        "porcentaje_propina_aceptado = float(input(\"Cual fue el porcentaje que el cliente acepto a pagar como propina: \"))\n",
        "\n",
        "calcular_propina (total_cuenta_por_pagar,porcentaje_propina_aceptado)\n",
        "\n",
        "print (f\"La propina a recibir para {nombre_mesero} es de {calcular_propina (total_cuenta_por_pagar,porcentaje_propina_aceptado)}\")"
      ],
      "metadata": {
        "colab": {
          "base_uri": "https://localhost:8080/"
        },
        "id": "PX7ByEPlWDGS",
        "outputId": "517f0d06-cb96-47f1-932f-32e50c415e21"
      },
      "execution_count": null,
      "outputs": [
        {
          "output_type": "stream",
          "name": "stdout",
          "text": [
            "Nombre del mesero que atendio: Andres\n",
            "Cual fue el valor de los servicios: 100000\n",
            "Cual fue el porcentaje que el cliente acepto a pagar como propina: 10\n",
            "La propina a recibir para Andres es de 10000.0\n"
          ]
        }
      ]
    },
    {
      "cell_type": "markdown",
      "source": [
        "8. Calcular la disponibilidad de habitaciones en un hotel:\n",
        "Escribe una función verificar_disponibilidad que reciba el número de habitaciones\n",
        "disponibles y la cantidad de habitaciones requeridas. Devuelve un mensaje que indique si\n",
        "hay suficientes habitaciones o cuántas faltan.\n"
      ],
      "metadata": {
        "id": "wIDkdAipWErJ"
      }
    },
    {
      "cell_type": "code",
      "source": [
        "def verificar_disponibilidad (habitaciones_disponibles,habitaciones_requeridas):\n",
        "  if habitaciones_disponibles > habitaciones_requeridas:\n",
        "    return print (f\"Aun se tienen habitaciones disponibles, total disponibles {habitaciones_disponibles}\")\n",
        "  else:\n",
        "    habitaciones_faltantes = habitaciones_requeridas - habitaciones_disponibles\n",
        "    return print (f\"No se cuentan con habitaciones disponibles, se requieren {habitaciones_faltantes} habitaciones adicionales para cumplir\")\n",
        "\n",
        "registro_inicial_habitaciones = int(input(\"Por favor registra las habitaciones disponibles para iniciar el programa: \"))\n",
        "conteo_habitaciones_requeridas = int(input(\"Por favor registra el total de habitaciones requeridas para el día: \"))\n",
        "\n",
        "print (verificar_disponibilidad (registro_inicial_habitaciones,conteo_habitaciones_requeridas))\n"
      ],
      "metadata": {
        "colab": {
          "base_uri": "https://localhost:8080/"
        },
        "id": "GJtoS-YHWFDq",
        "outputId": "c1bf42b4-56aa-405b-f830-5753f18dba20"
      },
      "execution_count": null,
      "outputs": [
        {
          "output_type": "stream",
          "name": "stdout",
          "text": [
            "Por favor registra las habitaciones disponibles para iniciar el programa: 20\n",
            "Por favor registra el total de habitaciones requeridas para el día: 10\n",
            "Aun se tienen habitaciones disponibles, total disponibles 20\n",
            "None\n"
          ]
        }
      ]
    },
    {
      "cell_type": "markdown",
      "source": [
        "9. Sistema de evaluación de empleados:\n",
        "Crea una función evaluar_empleado que reciba el nombre del empleado, su puntuación en\n",
        "tres categorías (por ejemplo, productividad, puntualidad y trabajo en equipo) y devuelva una\n",
        "calificación final promedio con un mensaje:\n",
        "\"Sobresaliente\" si es mayor a 90.\n",
        "\"Bueno\" si está entre 70 y 89.\n",
        "\"Mejorable\" si es menor a 70."
      ],
      "metadata": {
        "id": "S9-wPTpRWFqB"
      }
    },
    {
      "cell_type": "code",
      "source": [
        "def evaluar_empleado (nombre_empleado,puntacion_empleado):\n",
        "  if puntacion_empleado > 90:\n",
        "    return print (f\"La calificacion de {nombre_empleado} es sobresaliente\")\n",
        "  elif 70 <= puntacion_empleado <=89:\n",
        "    return print (f\"La calificacion de {nombre_empleado} es buena\")\n",
        "  else:\n",
        "    return print (f\"La calificacion de {nombre_empleado} es mejorable\")\n",
        "\n",
        "nombre_empleado_inicial = input (\"Por favor digite el nombre el nombre del empleado: \")\n",
        "print (\"Se solicitaran las calificaciones en todas las categorias, recuerda calificar de 0 a 100\")\n",
        "calificacion_productividad = float(input(\"Digite la calificacion de productividad: \"))\n",
        "calificacion_puntualidad = float(input(\"Digite la calificacion de puntualidad: \"))\n",
        "calificacion_trabajo_equipo = float(input(\"Digite la calificacion de trabajo en equipo: \"))\n",
        "promedio_calificacion = (calificacion_puntualidad+calificacion_productividad+calificacion_trabajo_equipo) / 3\n",
        "\n",
        "evaluar_empleado (nombre_empleado_inicial,promedio_calificacion)\n",
        "\n",
        "#print (evaluar_empleado (nombre_empleado_inicial,promedio_calificacion))"
      ],
      "metadata": {
        "colab": {
          "base_uri": "https://localhost:8080/"
        },
        "id": "vnh2rNYzWH4C",
        "outputId": "ddad6665-a9fa-4ea4-8e91-2272680b4a06"
      },
      "execution_count": null,
      "outputs": [
        {
          "output_type": "stream",
          "name": "stdout",
          "text": [
            "Por favor digite el nombre el nombre del empleado: Raul\n",
            "Se solicitaran las calificaciones en todas las categorias, recuerda calificar de 0 a 100\n",
            "Digite la calificacion de productividad: 50\n",
            "Digite la calificacion de puntualidad: 50\n",
            "Digite la calificacion de trabajo en equipo: 60\n",
            "La calificacion de Raul es mejorable\n"
          ]
        }
      ]
    }
  ]
}